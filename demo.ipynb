{
 "cells": [
  {
   "metadata": {},
   "cell_type": "markdown",
   "source": "# Demo of the game",
   "id": "8a73b8c6d90a32a8"
  },
  {
   "metadata": {},
   "cell_type": "markdown",
   "source": "Import necessary files",
   "id": "ca87d06dea32a382"
  },
  {
   "metadata": {
    "ExecuteTime": {
     "end_time": "2025-09-01T15:33:37.868347Z",
     "start_time": "2025-09-01T15:33:37.860558Z"
    }
   },
   "cell_type": "code",
   "source": [
    "import time\n",
    "\n",
    "# Code fromPython files\n",
    "from tile import Tile as TP\n",
    "from generation import find_all_valid_moves\n",
    "from generation import possible_moves\n",
    "\n",
    "# Code from C++ files\n",
    "import rummikub_solver as rs\n",
    "from rummikub_solver import Tile as TC\n",
    "from rummikub_solver import TileColor as Color"
   ],
   "id": "f2815be7e6696f43",
   "outputs": [],
   "execution_count": 1
  },
  {
   "metadata": {},
   "cell_type": "markdown",
   "source": "Create hand and table examples",
   "id": "e1db10d81d49e023"
  },
  {
   "metadata": {
    "ExecuteTime": {
     "end_time": "2025-09-01T15:33:37.873423Z",
     "start_time": "2025-09-01T15:33:37.871475Z"
    }
   },
   "cell_type": "code",
   "source": [
    "hand = [TP(7, 'Red'), TP(7, 'Blue')]\n",
    "table = [\n",
    "    [TP(4, 'Red'), TP(5, 'Red'), TP(6, 'Red')],\n",
    "    [TP(4, 'Blue'), TP(5, 'Blue'), TP(6, 'Blue')]\n",
    "]"
   ],
   "id": "bfce406b1b71844d",
   "outputs": [],
   "execution_count": 2
  },
  {
   "metadata": {},
   "cell_type": "markdown",
   "source": "Find all possible moves",
   "id": "2b198142465d76d8"
  },
  {
   "metadata": {
    "ExecuteTime": {
     "end_time": "2025-09-01T15:33:37.878785Z",
     "start_time": "2025-09-01T15:33:37.876647Z"
    }
   },
   "cell_type": "code",
   "source": [
    "possible = find_all_valid_moves(hand, table)\n",
    "\n",
    "print(f\"\\nZnaleziono {len(possible)} możliwych ruchów:\")"
   ],
   "id": "f9fed556d774afe6",
   "outputs": [
    {
     "name": "stdout",
     "output_type": "stream",
     "text": [
      "\n",
      "Znaleziono 1 możliwych ruchów:\n"
     ]
    }
   ],
   "execution_count": 3
  },
  {
   "metadata": {
    "ExecuteTime": {
     "end_time": "2025-09-01T15:33:37.892814Z",
     "start_time": "2025-09-01T15:33:37.890776Z"
    }
   },
   "cell_type": "code",
   "source": [
    "for i, move in enumerate(possible):\n",
    "    # Sorting for readability of the result\n",
    "    sorted_move = sorted([sorted(meld) for meld in move])\n",
    "    print(f\"--- Ruch #{i+1} ---\")\n",
    "    for meld in sorted_move:\n",
    "        print(f\"  {meld}\")"
   ],
   "id": "22c82797d7b67ce7",
   "outputs": [
    {
     "name": "stdout",
     "output_type": "stream",
     "text": [
      "--- Ruch #1 ---\n",
      "  [B4, B5, B6, B7]\n",
      "  [R4, R5, R6, R7]\n"
     ]
    }
   ],
   "execution_count": 4
  },
  {
   "metadata": {},
   "cell_type": "markdown",
   "source": "Now more complex example",
   "id": "280689c698383de5"
  },
  {
   "metadata": {
    "ExecuteTime": {
     "end_time": "2025-09-01T15:33:37.905055Z",
     "start_time": "2025-09-01T15:33:37.903241Z"
    }
   },
   "cell_type": "code",
   "source": [
    "hand = [TP(6, 'Black')]\n",
    "table = [\n",
    "    [TP(4, 'Red'), TP(4, 'Blue'), TP(4, 'Yellow'), TP(4,'Black')],\n",
    "    [TP(5, 'Black'), TP(5, 'Yellow'), TP(5, 'Red'), TP(5, 'Blue')]\n",
    "]"
   ],
   "id": "dc82d1438a519a7c",
   "outputs": [],
   "execution_count": 5
  },
  {
   "metadata": {
    "ExecuteTime": {
     "end_time": "2025-09-01T15:33:37.918336Z",
     "start_time": "2025-09-01T15:33:37.916258Z"
    }
   },
   "cell_type": "code",
   "source": [
    "possible = find_all_valid_moves(hand, table)\n",
    "\n",
    "print(f\"\\nZnaleziono {len(possible)} możliwych ruchów:\")"
   ],
   "id": "59279919adaae3ef",
   "outputs": [
    {
     "name": "stdout",
     "output_type": "stream",
     "text": [
      "\n",
      "Znaleziono 1 możliwych ruchów:\n"
     ]
    }
   ],
   "execution_count": 6
  },
  {
   "metadata": {
    "ExecuteTime": {
     "end_time": "2025-09-01T15:33:37.931259Z",
     "start_time": "2025-09-01T15:33:37.928947Z"
    }
   },
   "cell_type": "code",
   "source": [
    "for i, move in enumerate(possible):\n",
    "    sorted_move = sorted([sorted(meld) for meld in move])\n",
    "    print(f\"--- Ruch #{i+1} ---\")\n",
    "    for meld in sorted_move:\n",
    "        print(f\"  {meld}\")"
   ],
   "id": "259e951f810b9613",
   "outputs": [
    {
     "name": "stdout",
     "output_type": "stream",
     "text": [
      "--- Ruch #1 ---\n",
      "  [B4, B5, B6]\n",
      "  [B4, R4, Y4]\n",
      "  [B5, R5, Y5]\n"
     ]
    }
   ],
   "execution_count": 7
  },
  {
   "metadata": {},
   "cell_type": "markdown",
   "source": "With repeating blocks",
   "id": "3f65be3ed923e27d"
  },
  {
   "metadata": {
    "ExecuteTime": {
     "end_time": "2025-09-01T15:33:37.943324Z",
     "start_time": "2025-09-01T15:33:37.941582Z"
    }
   },
   "cell_type": "code",
   "source": [
    "hand = [TP(5, 'Red'), TP(5, 'Red')]\n",
    "table = [\n",
    "    [TP(3, 'Red'), TP(4, 'Red'), TP(6, 'Red'), TP(7, 'Red')],\n",
    "]"
   ],
   "id": "65f1ec4b43a78174",
   "outputs": [],
   "execution_count": 8
  },
  {
   "metadata": {
    "ExecuteTime": {
     "end_time": "2025-09-01T15:33:37.956638Z",
     "start_time": "2025-09-01T15:33:37.954441Z"
    }
   },
   "cell_type": "code",
   "source": [
    "possible = find_all_valid_moves(hand, table)\n",
    "\n",
    "print(f\"\\nZnaleziono {len(possible)} możliwych ruchów:\")"
   ],
   "id": "3a2184aebbf04b23",
   "outputs": [
    {
     "name": "stdout",
     "output_type": "stream",
     "text": [
      "\n",
      "Znaleziono 1 możliwych ruchów:\n"
     ]
    }
   ],
   "execution_count": 9
  },
  {
   "metadata": {
    "ExecuteTime": {
     "end_time": "2025-09-01T15:33:37.971682Z",
     "start_time": "2025-09-01T15:33:37.969535Z"
    }
   },
   "cell_type": "code",
   "source": [
    "for i, move in enumerate(possible):\n",
    "    sorted_move = sorted([sorted(meld) for meld in move])\n",
    "    print(f\"--- Ruch #{i+1} ---\")\n",
    "    for meld in sorted_move:\n",
    "        print(f\"  {meld}\")"
   ],
   "id": "a32e3b432f1365da",
   "outputs": [
    {
     "name": "stdout",
     "output_type": "stream",
     "text": [
      "--- Ruch #1 ---\n",
      "  [R3, R4, R5]\n",
      "  [R5, R6, R7]\n"
     ]
    }
   ],
   "execution_count": 10
  },
  {
   "metadata": {},
   "cell_type": "markdown",
   "source": "With jokers",
   "id": "19a6f48cabb46495"
  },
  {
   "metadata": {
    "ExecuteTime": {
     "end_time": "2025-09-01T15:33:37.984016Z",
     "start_time": "2025-09-01T15:33:37.982216Z"
    }
   },
   "cell_type": "code",
   "source": [
    "hand = [TP(1, 'Joker'), TP(2, 'Joker'), TP(1, 'Yellow')]\n",
    "table = []"
   ],
   "id": "6244ea94d421496a",
   "outputs": [],
   "execution_count": 11
  },
  {
   "metadata": {
    "ExecuteTime": {
     "end_time": "2025-09-01T15:33:37.995029Z",
     "start_time": "2025-09-01T15:33:37.993121Z"
    }
   },
   "cell_type": "code",
   "source": [
    "possible = find_all_valid_moves(hand, table)\n",
    "\n",
    "print(f\"\\nZnaleziono {len(possible)} możliwych ruchów:\")"
   ],
   "id": "4f7303f2bab18761",
   "outputs": [
    {
     "name": "stdout",
     "output_type": "stream",
     "text": [
      "\n",
      "Znaleziono 1 możliwych ruchów:\n"
     ]
    }
   ],
   "execution_count": 12
  },
  {
   "metadata": {
    "ExecuteTime": {
     "end_time": "2025-09-01T15:33:38.009146Z",
     "start_time": "2025-09-01T15:33:38.006889Z"
    }
   },
   "cell_type": "code",
   "source": [
    "for i, move in enumerate(possible):\n",
    "    sorted_move = sorted([sorted(meld) for meld in move])\n",
    "    print(f\"--- Ruch #{i+1} ---\")\n",
    "    for meld in sorted_move:\n",
    "        print(f\"  {meld}\")"
   ],
   "id": "d582f21040ad6650",
   "outputs": [
    {
     "name": "stdout",
     "output_type": "stream",
     "text": [
      "--- Ruch #1 ---\n",
      "  [J1, Y1, J2]\n"
     ]
    }
   ],
   "execution_count": 13
  },
  {
   "metadata": {},
   "cell_type": "markdown",
   "source": [
    "### Compare with C++ implementation\n",
    "Create identical hand and table"
   ],
   "id": "e9eb0ade7ae00aa"
  },
  {
   "metadata": {
    "ExecuteTime": {
     "end_time": "2025-09-01T15:33:38.019613Z",
     "start_time": "2025-09-01T15:33:38.017597Z"
    }
   },
   "cell_type": "code",
   "source": [
    "hand_CPP = [TC(7, Color.Red), TC(7, Color.Blue), TC(7, Color.Blue)]\n",
    "table_CPP = [\n",
    "    [TC(5, Color.Red), TC(6, Color.Red), TC(8, Color.Red), TC(9, Color.Red)],\n",
    "    [TC(5, Color.Blue), TC(6, Color.Blue), TC(8, Color.Blue), TC(9, Color.Blue)]\n",
    "]"
   ],
   "id": "e4bebf159a394cb6",
   "outputs": [],
   "execution_count": 14
  },
  {
   "metadata": {
    "ExecuteTime": {
     "end_time": "2025-09-01T15:33:38.031554Z",
     "start_time": "2025-09-01T15:33:38.029417Z"
    }
   },
   "cell_type": "code",
   "source": [
    "hand_Python = [TP(7, \"Red\"), TP(7, \"Blue\"), TP(7, \"Blue\")]\n",
    "table_Python = [\n",
    "    [TP(5, \"Red\"), TP(6, \"Red\"), TP(8, \"Red\"), TP(9, \"Red\")],\n",
    "    [TP(5, \"Blue\"), TP(6, \"Blue\"), TP(8, \"Blue\"), TP(9, \"Blue\")]\n",
    "]"
   ],
   "id": "d65bc4f3fe3b54be",
   "outputs": [],
   "execution_count": 15
  },
  {
   "metadata": {},
   "cell_type": "markdown",
   "source": "count time in both implementations",
   "id": "8bd6f31e2e59135e"
  },
  {
   "metadata": {
    "ExecuteTime": {
     "end_time": "2025-09-01T15:33:38.037155Z",
     "start_time": "2025-09-01T15:33:38.034986Z"
    }
   },
   "cell_type": "code",
   "source": [
    "start_python = time.time()\n",
    "possible_python = find_all_valid_moves(hand_Python, table_Python)\n",
    "end_python = time.time()\n",
    "python_time = end_python - start_python"
   ],
   "id": "ad8cd5ee19aec6a4",
   "outputs": [],
   "execution_count": 16
  },
  {
   "metadata": {
    "ExecuteTime": {
     "end_time": "2025-09-01T15:33:38.041316Z",
     "start_time": "2025-09-01T15:33:38.039599Z"
    }
   },
   "cell_type": "code",
   "source": [
    "start_cpp = time.time()\n",
    "possible_cpp = rs.find_all_valid_moves(hand_CPP, table_CPP)\n",
    "end_cpp = time.time()\n",
    "cpp_time = end_cpp - start_cpp"
   ],
   "id": "77e76cc2cb22f640",
   "outputs": [],
   "execution_count": 17
  },
  {
   "metadata": {},
   "cell_type": "markdown",
   "source": "compare results and times",
   "id": "b2785ead0351b1ea"
  },
  {
   "metadata": {
    "ExecuteTime": {
     "end_time": "2025-09-01T15:33:38.047234Z",
     "start_time": "2025-09-01T15:33:38.045368Z"
    }
   },
   "cell_type": "code",
   "source": [
    "print(f\"Python found {len(possible_python)} and C++ found {len(possible_cpp)}\")\n",
    "print(f\"Python time: {python_time:.6f} seconds\")\n",
    "print(f\"C++ time: {cpp_time:.6f} seconds\")"
   ],
   "id": "ee79e6dcb94c5c34",
   "outputs": [
    {
     "name": "stdout",
     "output_type": "stream",
     "text": [
      "Python found 1 and C++ found 1\n",
      "Python time: 0.000553 seconds\n",
      "C++ time: 0.000173 seconds\n"
     ]
    }
   ],
   "execution_count": 18
  },
  {
   "metadata": {},
   "cell_type": "markdown",
   "source": "With larger numbers",
   "id": "1312fcf90a02a501"
  },
  {
   "metadata": {
    "ExecuteTime": {
     "end_time": "2025-09-01T15:33:38.061577Z",
     "start_time": "2025-09-01T15:33:38.058538Z"
    }
   },
   "cell_type": "code",
   "source": [
    "hand_python = [TP(12, 'Black'), TP(13, 'Black'), TP(11, 'Black'), TP(2, 'Black'), TP(3, 'Black'), TP(4, 'Black'), TP(5, 'Black'), TP(6, 'Black'), TP(7, 'Black'),\n",
    "        TP(1, 'Red'), TP(2, 'Red'), TP(3, 'Red'), TP(4, 'Red'), TP(5, 'Red'), TP(6, 'Red'), TP(7, 'Red')]\n",
    "table_python = [\n",
    "    [TP(12, 'Black'), TP(13, 'Black'), TP(11, 'Black')],\n",
    "    [TP(2, 'Black'), TP(3, 'Black'), TP(4, 'Black'), TP(5, 'Black'), TP(6, 'Black'), TP(7, 'Black')],\n",
    "    [TP(1, 'Red'), TP(2, 'Red'), TP(3, 'Red'), TP(4, 'Red'), TP(5, 'Red'), TP(6, 'Red'), TP(7, 'Red')],\n",
    "    [TP(1, 'Blue'), TP(2, 'Blue'), TP(3, 'Blue'), TP(4, 'Blue'), TP(5, 'Blue'), TP(6, 'Blue'), TP(7, 'Blue')],\n",
    "    [TP(1, 'Yellow'), TP(2, 'Yellow'), TP(3, 'Yellow'), TP(4, 'Yellow'), TP(5, 'Yellow'), TP(6, 'Yellow'), TP(7, 'Yellow')]\n",
    "]"
   ],
   "id": "b1a2936c7bf334f9",
   "outputs": [],
   "execution_count": 19
  },
  {
   "metadata": {
    "ExecuteTime": {
     "end_time": "2025-09-01T15:33:38.075103Z",
     "start_time": "2025-09-01T15:33:38.071844Z"
    }
   },
   "cell_type": "code",
   "source": [
    "hand_CPP = [TC(12, Color.Black), TC(13, Color.Black), TC(11, Color.Black), TC(2, Color.Black), TC(3, Color.Black), TC(4, Color.Black), TC(5, Color.Black), TC(6, Color.Black), TC(7, Color.Black),\n",
    "        TC(1, Color.Red), TC(2, Color.Red), TC(3, Color.Red), TC(4, Color.Red), TC(5, Color.Red), TC(6, Color.Red), TC(7, Color.Red)]\n",
    "table_CPP = [\n",
    "    [TC(12, Color.Black), TC(13, Color.Black), TC(11, Color.Black)],\n",
    "    [TC(2, Color.Black), TC(3, Color.Black), TC(4, Color.Black), TC(5, Color.Black), TC(6, Color.Black), TC(7, Color.Black)],\n",
    "    [TC(1, Color.Red), TC(2, Color.Red), TC(3, Color.Red), TC(4, Color.Red), TC(5, Color.Red), TC(6, Color.Red), TC(7, Color.Red)],\n",
    "    [TC(1, Color.Blue), TC(2, Color.Blue), TC(3, Color.Blue), TC(4, Color.Blue), TC(5, Color.Blue), TC(6, Color.Blue), TC(7, Color.Blue)],\n",
    "    [TC(1, Color.Yellow), TC(2, Color.Yellow), TC(3, Color.Yellow), TC(4, Color.Yellow), TC(5, Color.Yellow), TC(6, Color.Yellow), TC(7, Color.Yellow)]\n",
    "]"
   ],
   "id": "93c04804e4568464",
   "outputs": [],
   "execution_count": 20
  },
  {
   "metadata": {
    "ExecuteTime": {
     "end_time": "2025-09-01T15:34:07.956470Z",
     "start_time": "2025-09-01T15:33:38.079017Z"
    }
   },
   "cell_type": "code",
   "source": [
    "start_python = time.time()\n",
    "possible_python = find_all_valid_moves(hand_python, table_python)\n",
    "end_python = time.time()\n",
    "python_time = end_python - start_python"
   ],
   "id": "7be068f8f38b80d3",
   "outputs": [],
   "execution_count": 21
  },
  {
   "metadata": {
    "ExecuteTime": {
     "end_time": "2025-09-01T15:34:09.955529Z",
     "start_time": "2025-09-01T15:34:08.005272Z"
    }
   },
   "cell_type": "code",
   "source": [
    "start_cpp = time.time()\n",
    "possible_cpp = rs.find_all_valid_moves(hand_CPP, table_CPP)\n",
    "end_cpp = time.time()\n",
    "cpp_time = end_cpp - start_cpp"
   ],
   "id": "a978fdba87f959d2",
   "outputs": [],
   "execution_count": 22
  },
  {
   "metadata": {
    "ExecuteTime": {
     "end_time": "2025-09-01T15:34:09.976383Z",
     "start_time": "2025-09-01T15:34:09.971626Z"
    }
   },
   "cell_type": "code",
   "source": [
    "print(f\"Python found {len(possible_python)} and C++ found {len(possible_cpp)}\")\n",
    "print(f\"Python time: {python_time:.6f} seconds\")\n",
    "print(f\"C++ time: {cpp_time:.6f} seconds\")"
   ],
   "id": "97698d1ccb39d4fc",
   "outputs": [
    {
     "name": "stdout",
     "output_type": "stream",
     "text": [
      "Python found 3909 and C++ found 3909\n",
      "Python time: 29.875791 seconds\n",
      "C++ time: 1.948364 seconds\n"
     ]
    }
   ],
   "execution_count": 23
  }
 ],
 "metadata": {
  "kernelspec": {
   "display_name": "Python 3",
   "language": "python",
   "name": "python3"
  },
  "language_info": {
   "codemirror_mode": {
    "name": "ipython",
    "version": 2
   },
   "file_extension": ".py",
   "mimetype": "text/x-python",
   "name": "python",
   "nbconvert_exporter": "python",
   "pygments_lexer": "ipython2",
   "version": "2.7.6"
  }
 },
 "nbformat": 4,
 "nbformat_minor": 5
}
